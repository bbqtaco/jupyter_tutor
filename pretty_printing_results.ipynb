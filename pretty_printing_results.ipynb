{
 "cells": [
  {
   "cell_type": "code",
   "execution_count": 1,
   "metadata": {
    "collapsed": true
   },
   "outputs": [],
   "source": [
    "import matplotlib.pyplot as plt\n",
    "%matplotlib inline\n",
    "import numpy as np\n",
    "import pandas as pd\n",
    "from mpl_toolkits.mplot3d.axes3d import Axes3D\n",
    "%matplotlib notebook"
   ]
  },
  {
   "cell_type": "code",
   "execution_count": 2,
   "metadata": {
    "collapsed": true
   },
   "outputs": [],
   "source": [
    "dsname = './datasets/test.json'\n",
    "mdsname = './datasets/mtest.json'\n",
    "ort = 'split'\n",
    "df = pd.read_json(dsname,typ='frame',orient=ort)\n",
    "df.columns.name = 'file'\n",
    "mdf= pd.read_json(mdsname,typ='frame',orient=ort)\n",
    "mdf.columns.name = 'file'"
   ]
  },
  {
   "cell_type": "code",
   "execution_count": 3,
   "metadata": {
    "collapsed": false
   },
   "outputs": [
    {
     "data": {
      "text/html": [
       "<div>\n",
       "<style>\n",
       "    .dataframe thead tr:only-child th {\n",
       "        text-align: right;\n",
       "    }\n",
       "\n",
       "    .dataframe thead th {\n",
       "        text-align: left;\n",
       "    }\n",
       "\n",
       "    .dataframe tbody tr th {\n",
       "        vertical-align: top;\n",
       "    }\n",
       "</style>\n",
       "<table border=\"1\" class=\"dataframe\">\n",
       "  <thead>\n",
       "    <tr style=\"text-align: right;\">\n",
       "      <th>file</th>\n",
       "      <th>species</th>\n",
       "      <th>humidity</th>\n",
       "      <th>leg</th>\n",
       "      <th>sex</th>\n",
       "      <th>date</th>\n",
       "    </tr>\n",
       "  </thead>\n",
       "  <tbody>\n",
       "    <tr>\n",
       "      <th>l20170321_001.JDX</th>\n",
       "      <td>albopictus</td>\n",
       "      <td>39.3</td>\n",
       "      <td>3</td>\n",
       "      <td>m</td>\n",
       "      <td>20170321</td>\n",
       "    </tr>\n",
       "    <tr>\n",
       "      <th>l20170321_002.JDX</th>\n",
       "      <td>albopictus</td>\n",
       "      <td>39.3</td>\n",
       "      <td>3</td>\n",
       "      <td>m</td>\n",
       "      <td>20170321</td>\n",
       "    </tr>\n",
       "    <tr>\n",
       "      <th>l20170321_003.JDX</th>\n",
       "      <td>albopictus</td>\n",
       "      <td>39.3</td>\n",
       "      <td>3</td>\n",
       "      <td>m</td>\n",
       "      <td>20170321</td>\n",
       "    </tr>\n",
       "    <tr>\n",
       "      <th>l20170321_004.JDX</th>\n",
       "      <td>albopictus</td>\n",
       "      <td>39.3</td>\n",
       "      <td>3</td>\n",
       "      <td>m</td>\n",
       "      <td>20170321</td>\n",
       "    </tr>\n",
       "    <tr>\n",
       "      <th>l20170321_005.JDX</th>\n",
       "      <td>albopictus</td>\n",
       "      <td>39.3</td>\n",
       "      <td>3</td>\n",
       "      <td>m</td>\n",
       "      <td>20170321</td>\n",
       "    </tr>\n",
       "  </tbody>\n",
       "</table>\n",
       "</div>"
      ],
      "text/plain": [
       "file                  species  humidity  leg sex      date\n",
       "l20170321_001.JDX  albopictus      39.3    3   m  20170321\n",
       "l20170321_002.JDX  albopictus      39.3    3   m  20170321\n",
       "l20170321_003.JDX  albopictus      39.3    3   m  20170321\n",
       "l20170321_004.JDX  albopictus      39.3    3   m  20170321\n",
       "l20170321_005.JDX  albopictus      39.3    3   m  20170321"
      ]
     },
     "execution_count": 3,
     "metadata": {},
     "output_type": "execute_result"
    }
   ],
   "source": [
    "mdf.head()"
   ]
  },
  {
   "cell_type": "code",
   "execution_count": null,
   "metadata": {
    "collapsed": true
   },
   "outputs": [],
   "source": []
  }
 ],
 "metadata": {
  "kernelspec": {
   "display_name": "Python 3",
   "language": "python",
   "name": "python3"
  },
  "language_info": {
   "codemirror_mode": {
    "name": "ipython",
    "version": 3
   },
   "file_extension": ".py",
   "mimetype": "text/x-python",
   "name": "python",
   "nbconvert_exporter": "python",
   "pygments_lexer": "ipython3",
   "version": "3.6.0"
  }
 },
 "nbformat": 4,
 "nbformat_minor": 2
}
